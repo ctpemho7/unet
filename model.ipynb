{
 "cells": [
  {
   "cell_type": "code",
   "execution_count": 1,
   "id": "958889af",
   "metadata": {
    "execution": {
     "iopub.execute_input": "2023-05-23T09:32:52.729266Z",
     "iopub.status.busy": "2023-05-23T09:32:52.728876Z",
     "iopub.status.idle": "2023-05-23T09:33:10.589695Z",
     "shell.execute_reply": "2023-05-23T09:33:10.588536Z"
    },
    "papermill": {
     "duration": 17.868427,
     "end_time": "2023-05-23T09:33:10.592544",
     "exception": false,
     "start_time": "2023-05-23T09:32:52.724117",
     "status": "completed"
    },
    "tags": []
   },
   "outputs": [
    {
     "name": "stderr",
     "output_type": "stream",
     "text": [
      "/opt/conda/lib/python3.10/site-packages/scipy/__init__.py:146: UserWarning: A NumPy version >=1.16.5 and <1.23.0 is required for this version of SciPy (detected version 1.23.5\n",
      "  warnings.warn(f\"A NumPy version >={np_minversion} and <{np_maxversion}\"\n"
     ]
    }
   ],
   "source": [
    "import torch\n",
    "import torch.nn as nn\n",
    "import torchvision\n",
    "import torchvision.transforms.functional as TF\n",
    "\n",
    "import pytorch_lightning as pl\n",
    "from typing import Dict, List, Tuple"
   ]
  },
  {
   "cell_type": "code",
   "execution_count": 2,
   "id": "336e37d9",
   "metadata": {
    "execution": {
     "iopub.execute_input": "2023-05-23T09:33:10.599796Z",
     "iopub.status.busy": "2023-05-23T09:33:10.599412Z",
     "iopub.status.idle": "2023-05-23T09:33:10.607584Z",
     "shell.execute_reply": "2023-05-23T09:33:10.606398Z"
    },
    "papermill": {
     "duration": 0.014915,
     "end_time": "2023-05-23T09:33:10.610406",
     "exception": false,
     "start_time": "2023-05-23T09:33:10.595491",
     "status": "completed"
    },
    "tags": []
   },
   "outputs": [],
   "source": [
    "class DoubleConv(pl.LightningModule):\n",
    "    def __init__(self, in_channels, out_channels):\n",
    "        super(DoubleConv, self).__init__()\n",
    "        self.conv = nn.Sequential(\n",
    "            \n",
    "            nn.Conv2d(in_channels, out_channels, kernel_size=3, stride=1, padding=1, bias=False), # bias=False for Batchnorm              \n",
    "            nn.BatchNorm2d(out_channels),\n",
    "            nn.ReLU(inplace=True),\n",
    "            \n",
    "            nn.Conv2d(out_channels, out_channels, 3, 1, 1, bias=False),\n",
    "            nn.BatchNorm2d(out_channels),\n",
    "            nn.ReLU(inplace=True),\n",
    "        )\n",
    "\n",
    "    def forward(self, x):\n",
    "        return self.conv(x)"
   ]
  },
  {
   "cell_type": "code",
   "execution_count": 3,
   "id": "31bcd931",
   "metadata": {
    "_cell_guid": "58317a6c-dd82-44e4-ada8-a57d2c24db80",
    "_uuid": "390ba9fa-21c3-4c9e-92bd-2a086c7667fd",
    "collapsed": false,
    "execution": {
     "iopub.execute_input": "2023-05-23T09:33:10.618962Z",
     "iopub.status.busy": "2023-05-23T09:33:10.618179Z",
     "iopub.status.idle": "2023-05-23T09:33:10.642841Z",
     "shell.execute_reply": "2023-05-23T09:33:10.641678Z"
    },
    "jupyter": {
     "outputs_hidden": false
    },
    "papermill": {
     "duration": 0.031935,
     "end_time": "2023-05-23T09:33:10.645209",
     "exception": false,
     "start_time": "2023-05-23T09:33:10.613274",
     "status": "completed"
    },
    "tags": []
   },
   "outputs": [],
   "source": [
    "class UNET(pl.LightningModule):\n",
    "    def __init__(\n",
    "        self, \n",
    "        in_channels, \n",
    "        out_channels, \n",
    "        optimizer, \n",
    "        loss_fn,\n",
    "        features=[64, 128, 256, 512],\n",
    "    ):\n",
    "        super(UNET, self).__init__()\n",
    "        \n",
    "        self.loss_fn = loss_fn\n",
    "        \n",
    "        optimizer_params[0][\"params\"] = self.parameters() \n",
    "        self.optimizer = optimizer(optimizer_params)     \n",
    "        \n",
    "        self.train_dice_score = 0\n",
    "        self.val_dice_score = 0\n",
    "\n",
    "        \n",
    "        # architechture          \n",
    "        self.ups = nn.ModuleList()\n",
    "        self.downs = nn.ModuleList()\n",
    "        self.pool = nn.MaxPool2d(kernel_size=2, stride=2)\n",
    "\n",
    "        # Down part of UNET - only left side \n",
    "        for feature in features:\n",
    "            self.downs.append(DoubleConv(in_channels, feature))\n",
    "            in_channels = feature\n",
    "\n",
    "        # Up part of UNET - only right side \n",
    "        for feature in reversed(features):\n",
    "            # up             \n",
    "            self.ups.append(\n",
    "                nn.ConvTranspose2d(\n",
    "                    # with skip-conn\n",
    "                    feature*2, feature, kernel_size=2, stride=2,\n",
    "                )\n",
    "            )\n",
    "            # two times right, x gets concat to 2xchannel         \n",
    "            self.ups.append(DoubleConv(feature*2, feature))\n",
    "\n",
    "        self.bottleneck = DoubleConv(features[-1], features[-1]*2)\n",
    "        self.final_conv = nn.Conv2d(features[0], out_channels, kernel_size=1)\n",
    "\n",
    "        \n",
    "    def forward(self, x):\n",
    "        skip_connections = []\n",
    "\n",
    "        for down in self.downs:\n",
    "            x = down(x)\n",
    "            skip_connections.append(x)\n",
    "            x = self.pool(x)\n",
    "\n",
    "        x = self.bottleneck(x)\n",
    "        \n",
    "        # reverse skip_connections \n",
    "        skip_connections = skip_connections[::-1]\n",
    "            \n",
    "                        # пропускаем DoubleConv        \n",
    "        for idx in range(0, len(self.ups), 2):\n",
    "            x = self.ups[idx](x)\n",
    "            skip_connection = skip_connections[idx//2]\n",
    "\n",
    "            # resize if x does not match skip_conn              \n",
    "            if x.shape != skip_connection.shape:\n",
    "                x = TF.resize(x, size=skip_connection.shape[2:], antialias=True)\n",
    "\n",
    "            concat_skip = torch.cat((skip_connection, x), dim=1)\n",
    "            x = self.ups[idx+1](concat_skip)\n",
    "\n",
    "        return self.final_conv(x)\n",
    "    \n",
    "    \n",
    "    def configure_optimizers(self):\n",
    "        return self.optimizer\n",
    "    \n",
    "    \n",
    "    def training_step(self, batch: torch.Tensor, batch_idx) -> Dict[str, torch.Tensor]:\n",
    "        x, y = batch\n",
    "        pred = self(x.float())\n",
    "        loss = self.loss_fn(pred, y)\n",
    "        pred = torch.sigmoid(pred)\n",
    "        pred = (pred > 0.5).float()\n",
    "        \n",
    "        self.train_dice_score += (2 * (pred * y).sum()) / ((pred + y).sum() + 1e-8)\n",
    "        self.log(\"train_loss\", loss, prog_bar=True)\n",
    "        return {\"loss\": loss}\n",
    "\n",
    "    def training_epoch_end(self, output: List[Dict[str, torch.Tensor]]):\n",
    "        dice_score = self.train_dice_score / len(output)\n",
    "        self.log(\"train_dice_score\", dice_score, prog_bar=True)\n",
    "\n",
    "    def validation_step(self, batch: torch.Tensor, batch_idx: int) -> Dict[str, torch.Tensor]:\n",
    "        x, y = batch\n",
    "        pred = self(x.float())\n",
    "        loss = self.loss_fn(pred, y)\n",
    "        pred = torch.sigmoid(pred)\n",
    "        pred = (pred > 0.5).float()\n",
    "\n",
    "        self.val_dice_score += (2 * (pred * y).sum()) / ((pred + y).sum() + 1e-8)\n",
    "        self.log(\"val_loss\", loss, prog_bar=True)\n",
    "        return {\"loss\": loss}\n",
    "\n",
    "    def validation_epoch_end(self, output: List[Dict[str, torch.Tensor]]):\n",
    "        dice_score = self.val_dice_score / len(output)\n",
    "        self.log(\"val_dice_score\", dice_score, prog_bar=True)"
   ]
  }
 ],
 "metadata": {
  "kernelspec": {
   "display_name": "Python 3",
   "language": "python",
   "name": "python3"
  },
  "language_info": {
   "codemirror_mode": {
    "name": "ipython",
    "version": 3
   },
   "file_extension": ".py",
   "mimetype": "text/x-python",
   "name": "python",
   "nbconvert_exporter": "python",
   "pygments_lexer": "ipython3",
   "version": "3.10.10"
  },
  "papermill": {
   "default_parameters": {},
   "duration": 33.756932,
   "end_time": "2023-05-23T09:33:13.612752",
   "environment_variables": {},
   "exception": null,
   "input_path": "__notebook__.ipynb",
   "output_path": "__notebook__.ipynb",
   "parameters": {},
   "start_time": "2023-05-23T09:32:39.855820",
   "version": "2.4.0"
  }
 },
 "nbformat": 4,
 "nbformat_minor": 5
}
